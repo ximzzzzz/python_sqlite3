{
 "cells": [
  {
   "cell_type": "code",
   "execution_count": 1,
   "metadata": {},
   "outputs": [],
   "source": [
    "import sqlite3"
   ]
  },
  {
   "cell_type": "code",
   "execution_count": 3,
   "metadata": {},
   "outputs": [
    {
     "data": {
      "text/plain": [
       "'2.6.0'"
      ]
     },
     "execution_count": 3,
     "metadata": {},
     "output_type": "execute_result"
    }
   ],
   "source": [
    "sqlite3.version"
   ]
  },
  {
   "cell_type": "code",
   "execution_count": 8,
   "metadata": {},
   "outputs": [],
   "source": [
    "conn = sqlite3.connect('study.db')"
   ]
  },
  {
   "cell_type": "code",
   "execution_count": 9,
   "metadata": {},
   "outputs": [],
   "source": [
    "cur=conn.cursor()"
   ]
  },
  {
   "cell_type": "code",
   "execution_count": 20,
   "metadata": {},
   "outputs": [
    {
     "data": {
      "text/plain": [
       "<sqlite3.Cursor at 0x2ed8a6d87a0>"
      ]
     },
     "execution_count": 20,
     "metadata": {},
     "output_type": "execute_result"
    }
   ],
   "source": [
    "\n",
    "cur.execute('''create table daily_study(date integer primary key autoincrement,\n",
    "            hours integer, \n",
    "            topic text)''')\n"
   ]
  },
  {
   "cell_type": "code",
   "execution_count": 25,
   "metadata": {},
   "outputs": [],
   "source": [
    "cur.execute('insert into daily_study(date, hours, topic) values (1206,7,\"python sqlite3\")')\n",
    "conn.commit()\n",
    "\n",
    "conn.close()"
   ]
  },
  {
   "cell_type": "code",
   "execution_count": 26,
   "metadata": {},
   "outputs": [],
   "source": [
    "conn = sqlite3.connect('study.db')\n",
    "cur = conn.cursor()"
   ]
  },
  {
   "cell_type": "code",
   "execution_count": 27,
   "metadata": {},
   "outputs": [
    {
     "data": {
      "text/plain": [
       "[(1206, 7, 'python sqlite3'), (1207, 7, 'python sqlite3')]"
      ]
     },
     "execution_count": 27,
     "metadata": {},
     "output_type": "execute_result"
    }
   ],
   "source": [
    "cur.execute('select * from daily_study')\n",
    "cur.fetchall()"
   ]
  },
  {
   "cell_type": "code",
   "execution_count": 30,
   "metadata": {},
   "outputs": [],
   "source": [
    "cur.execute('insert into daily_study(date, hours, topic) values(?,?,?)', (1203,5,'deep_learning'))\n",
    "conn.commit()"
   ]
  },
  {
   "cell_type": "code",
   "execution_count": 33,
   "metadata": {},
   "outputs": [
    {
     "name": "stdout",
     "output_type": "stream",
     "text": [
      "(1203, 5, 'deep_learning')\n",
      "(1206, 7, 'python sqlite3')\n",
      "(1207, 7, 'python sqlite3')\n"
     ]
    }
   ],
   "source": [
    "cur.execute('select * from daily_study')\n",
    "for fet in cur.fetchall():\n",
    "    print(fet)"
   ]
  },
  {
   "cell_type": "code",
   "execution_count": 38,
   "metadata": {},
   "outputs": [],
   "source": [
    "conn = sqlite3.connect('study.db')\n",
    "try :\n",
    "    with conn:\n",
    "        cur = conn.cursor()\n",
    "#         cur.execute('insert into daily_study(date, hours, topic) values(?,?,?)',(1203,2,'machine learning'))\n",
    "        conn.commit()\n",
    "\n",
    "finally:\n",
    "    conn.close()"
   ]
  },
  {
   "cell_type": "code",
   "execution_count": 51,
   "metadata": {},
   "outputs": [
    {
     "name": "stdout",
     "output_type": "stream",
     "text": [
      "(1202, 2, 'machine_learning')\n",
      "(1203, 5, 'deep_learning')\n",
      "(1206, 7, 'english interview script writing')\n",
      "(1207, 7, 'python sqlite3')\n"
     ]
    }
   ],
   "source": [
    "conn = sqlite3.connect('study.db')\n",
    "\n",
    "try : \n",
    "    with conn:\n",
    "        cur = conn.cursor()\n",
    "        cur.execute('select * from daily_study')\n",
    "        for fet in cur.fetchall():\n",
    "            print(fet)\n",
    "finally:\n",
    "    conn.close()"
   ]
  },
  {
   "cell_type": "code",
   "execution_count": 45,
   "metadata": {},
   "outputs": [],
   "source": [
    "conn = sqlite3.connect('study.db')\n",
    "\n",
    "try :\n",
    "    with conn:\n",
    "        cur = conn.cursor()\n",
    "        cur.execute('insert into daily_study values(1201, 2, \"sexplay\")')\n",
    "        conn.commit()\n",
    "finally:\n",
    "    conn.close()"
   ]
  },
  {
   "cell_type": "code",
   "execution_count": 47,
   "metadata": {},
   "outputs": [],
   "source": [
    "conn = sqlite3.connect('study.db')\n",
    "\n",
    "try:\n",
    "    with conn:\n",
    "        cur = conn.cursor()\n",
    "        cur.execute('delete from daily_study where topic=\"sexplay\" ')\n",
    "        conn.commit()\n",
    "        \n",
    "finally:\n",
    "    conn.close()"
   ]
  },
  {
   "cell_type": "code",
   "execution_count": 50,
   "metadata": {},
   "outputs": [],
   "source": [
    "conn = sqlite3.connect('study.db')\n",
    "\n",
    "try:\n",
    "    with conn:\n",
    "        cur = conn.cursor()\n",
    "        cur.execute('update daily_study set topic=\"english interview script writing\" where date=1206')\n",
    "        conn.commit()\n",
    "        \n",
    "finally:\n",
    "    conn.close()"
   ]
  },
  {
   "cell_type": "code",
   "execution_count": null,
   "metadata": {},
   "outputs": [],
   "source": []
  }
 ],
 "metadata": {
  "kernelspec": {
   "display_name": "Python 3",
   "language": "python",
   "name": "python3"
  },
  "language_info": {
   "codemirror_mode": {
    "name": "ipython",
    "version": 3
   },
   "file_extension": ".py",
   "mimetype": "text/x-python",
   "name": "python",
   "nbconvert_exporter": "python",
   "pygments_lexer": "ipython3",
   "version": "3.6.4"
  }
 },
 "nbformat": 4,
 "nbformat_minor": 2
}
